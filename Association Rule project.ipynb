{
 "cells": [
  {
   "cell_type": "markdown",
   "id": "b95e7253",
   "metadata": {},
   "source": [
    "## Tasks:\n",
    "\n",
    "1. Extract association rules using a minimum support of 0.01 and a minimum confidence threshold of 0.1.\n",
    "2. Create a heatmap showing the number of association rules for different combinations of minimum support values (0.001, 0.005, 0.01, 0.05) and minimum confidence thresholds (0.05, 0.075, 0.1).\n",
    "3. Identify the association rule(s) with the highest confidence for a minimum support of 0.005 and report the confidence value."
   ]
  },
  {
   "cell_type": "code",
   "execution_count": 10,
   "id": "4b64bc6f",
   "metadata": {},
   "outputs": [],
   "source": [
    "import pandas as pd\n",
    "from mlxtend.preprocessing import TransactionEncoder\n",
    "from mlxtend.frequent_patterns import apriori, association_rules\n",
    "import seaborn as sns\n",
    "import matplotlib.pyplot as plt"
   ]
  },
  {
   "cell_type": "code",
   "execution_count": 2,
   "id": "d79156ea",
   "metadata": {},
   "outputs": [
    {
     "data": {
      "text/html": [
       "<div>\n",
       "<style scoped>\n",
       "    .dataframe tbody tr th:only-of-type {\n",
       "        vertical-align: middle;\n",
       "    }\n",
       "\n",
       "    .dataframe tbody tr th {\n",
       "        vertical-align: top;\n",
       "    }\n",
       "\n",
       "    .dataframe thead th {\n",
       "        text-align: right;\n",
       "    }\n",
       "</style>\n",
       "<table border=\"1\" class=\"dataframe\">\n",
       "  <thead>\n",
       "    <tr style=\"text-align: right;\">\n",
       "      <th></th>\n",
       "      <th>0</th>\n",
       "      <th>1</th>\n",
       "      <th>2</th>\n",
       "      <th>3</th>\n",
       "      <th>4</th>\n",
       "      <th>5</th>\n",
       "      <th>6</th>\n",
       "      <th>7</th>\n",
       "      <th>8</th>\n",
       "      <th>9</th>\n",
       "      <th>10</th>\n",
       "    </tr>\n",
       "  </thead>\n",
       "  <tbody>\n",
       "    <tr>\n",
       "      <th>0</th>\n",
       "      <td>sausage</td>\n",
       "      <td>canned beer</td>\n",
       "      <td>NaN</td>\n",
       "      <td>NaN</td>\n",
       "      <td>NaN</td>\n",
       "      <td>NaN</td>\n",
       "      <td>NaN</td>\n",
       "      <td>NaN</td>\n",
       "      <td>NaN</td>\n",
       "      <td>NaN</td>\n",
       "      <td>NaN</td>\n",
       "    </tr>\n",
       "    <tr>\n",
       "      <th>1</th>\n",
       "      <td>shopping bags</td>\n",
       "      <td>beef</td>\n",
       "      <td>citrus fruit</td>\n",
       "      <td>cat food</td>\n",
       "      <td>NaN</td>\n",
       "      <td>NaN</td>\n",
       "      <td>NaN</td>\n",
       "      <td>NaN</td>\n",
       "      <td>NaN</td>\n",
       "      <td>NaN</td>\n",
       "      <td>NaN</td>\n",
       "    </tr>\n",
       "    <tr>\n",
       "      <th>2</th>\n",
       "      <td>onions</td>\n",
       "      <td>root vegetables</td>\n",
       "      <td>NaN</td>\n",
       "      <td>NaN</td>\n",
       "      <td>NaN</td>\n",
       "      <td>NaN</td>\n",
       "      <td>NaN</td>\n",
       "      <td>NaN</td>\n",
       "      <td>NaN</td>\n",
       "      <td>NaN</td>\n",
       "      <td>NaN</td>\n",
       "    </tr>\n",
       "    <tr>\n",
       "      <th>3</th>\n",
       "      <td>bottled beer</td>\n",
       "      <td>domestic eggs</td>\n",
       "      <td>brown bread</td>\n",
       "      <td>chewing gum</td>\n",
       "      <td>NaN</td>\n",
       "      <td>NaN</td>\n",
       "      <td>NaN</td>\n",
       "      <td>NaN</td>\n",
       "      <td>NaN</td>\n",
       "      <td>NaN</td>\n",
       "      <td>NaN</td>\n",
       "    </tr>\n",
       "    <tr>\n",
       "      <th>4</th>\n",
       "      <td>rolls/buns</td>\n",
       "      <td>other vegetables</td>\n",
       "      <td>chewing gum</td>\n",
       "      <td>NaN</td>\n",
       "      <td>NaN</td>\n",
       "      <td>NaN</td>\n",
       "      <td>NaN</td>\n",
       "      <td>NaN</td>\n",
       "      <td>NaN</td>\n",
       "      <td>NaN</td>\n",
       "      <td>NaN</td>\n",
       "    </tr>\n",
       "  </tbody>\n",
       "</table>\n",
       "</div>"
      ],
      "text/plain": [
       "               0                 1             2            3    4    5    6  \\\n",
       "0        sausage       canned beer           NaN          NaN  NaN  NaN  NaN   \n",
       "1  shopping bags              beef  citrus fruit     cat food  NaN  NaN  NaN   \n",
       "2         onions   root vegetables           NaN          NaN  NaN  NaN  NaN   \n",
       "3   bottled beer     domestic eggs   brown bread  chewing gum  NaN  NaN  NaN   \n",
       "4     rolls/buns  other vegetables   chewing gum          NaN  NaN  NaN  NaN   \n",
       "\n",
       "     7    8   9  10  \n",
       "0  NaN  NaN NaN NaN  \n",
       "1  NaN  NaN NaN NaN  \n",
       "2  NaN  NaN NaN NaN  \n",
       "3  NaN  NaN NaN NaN  \n",
       "4  NaN  NaN NaN NaN  "
      ]
     },
     "execution_count": 2,
     "metadata": {},
     "output_type": "execute_result"
    }
   ],
   "source": [
    "# Load the dataset\n",
    "file_path = 'Firstone_Grocery_Items_.csv'\n",
    "grocery_data = pd.read_csv(file_path)\n",
    "\n",
    "# Display the first few rows of the dataset\n",
    "grocery_data.head()"
   ]
  },
  {
   "cell_type": "markdown",
   "id": "565e449d",
   "metadata": {},
   "source": [
    "**1. Extract Association Rules (Minimum Support = 0.01, Minimum Confidence = 0.1)**"
   ]
  },
  {
   "cell_type": "code",
   "execution_count": 6,
   "id": "68c4878a",
   "metadata": {},
   "outputs": [],
   "source": [
    "# Preprocessing the data\n",
    "transactions = grocery_data.stack().groupby(level=0).apply(list).tolist()\n",
    "encoder = TransactionEncoder()\n",
    "trans_encoded = encoder.fit(transactions).transform(transactions)\n",
    "df_trans_encoded = pd.DataFrame(trans_encoded, columns=encoder.columns_)"
   ]
  },
  {
   "cell_type": "code",
   "execution_count": 7,
   "id": "410650e3",
   "metadata": {},
   "outputs": [],
   "source": [
    "# Applying Apriori Algorithm\n",
    "frequent_itemsets = apriori(df_trans_encoded, min_support=0.01, use_colnames=True)"
   ]
  },
  {
   "cell_type": "code",
   "execution_count": 8,
   "id": "1cac5a7f",
   "metadata": {},
   "outputs": [],
   "source": [
    "# Generating Association Rules\n",
    "rules = association_rules(frequent_itemsets, metric=\"confidence\", min_threshold=0.1)"
   ]
  },
  {
   "cell_type": "code",
   "execution_count": 9,
   "id": "86e47f1d",
   "metadata": {},
   "outputs": [
    {
     "data": {
      "text/html": [
       "<div>\n",
       "<style scoped>\n",
       "    .dataframe tbody tr th:only-of-type {\n",
       "        vertical-align: middle;\n",
       "    }\n",
       "\n",
       "    .dataframe tbody tr th {\n",
       "        vertical-align: top;\n",
       "    }\n",
       "\n",
       "    .dataframe thead th {\n",
       "        text-align: right;\n",
       "    }\n",
       "</style>\n",
       "<table border=\"1\" class=\"dataframe\">\n",
       "  <thead>\n",
       "    <tr style=\"text-align: right;\">\n",
       "      <th></th>\n",
       "      <th>antecedents</th>\n",
       "      <th>consequents</th>\n",
       "      <th>antecedent support</th>\n",
       "      <th>consequent support</th>\n",
       "      <th>support</th>\n",
       "      <th>confidence</th>\n",
       "      <th>lift</th>\n",
       "      <th>leverage</th>\n",
       "      <th>conviction</th>\n",
       "      <th>zhangs_metric</th>\n",
       "    </tr>\n",
       "  </thead>\n",
       "  <tbody>\n",
       "    <tr>\n",
       "      <th>0</th>\n",
       "      <td>(soda)</td>\n",
       "      <td>(other vegetables)</td>\n",
       "      <td>0.096750</td>\n",
       "      <td>0.12225</td>\n",
       "      <td>0.010875</td>\n",
       "      <td>0.112403</td>\n",
       "      <td>0.919453</td>\n",
       "      <td>-0.000953</td>\n",
       "      <td>0.988906</td>\n",
       "      <td>-0.088412</td>\n",
       "    </tr>\n",
       "    <tr>\n",
       "      <th>1</th>\n",
       "      <td>(other vegetables)</td>\n",
       "      <td>(whole milk)</td>\n",
       "      <td>0.122250</td>\n",
       "      <td>0.15825</td>\n",
       "      <td>0.014625</td>\n",
       "      <td>0.119632</td>\n",
       "      <td>0.755968</td>\n",
       "      <td>-0.004721</td>\n",
       "      <td>0.956134</td>\n",
       "      <td>-0.268881</td>\n",
       "    </tr>\n",
       "    <tr>\n",
       "      <th>2</th>\n",
       "      <td>(rolls/buns)</td>\n",
       "      <td>(whole milk)</td>\n",
       "      <td>0.108625</td>\n",
       "      <td>0.15825</td>\n",
       "      <td>0.014625</td>\n",
       "      <td>0.134638</td>\n",
       "      <td>0.850790</td>\n",
       "      <td>-0.002565</td>\n",
       "      <td>0.972714</td>\n",
       "      <td>-0.164404</td>\n",
       "    </tr>\n",
       "    <tr>\n",
       "      <th>3</th>\n",
       "      <td>(soda)</td>\n",
       "      <td>(whole milk)</td>\n",
       "      <td>0.096750</td>\n",
       "      <td>0.15825</td>\n",
       "      <td>0.012125</td>\n",
       "      <td>0.125323</td>\n",
       "      <td>0.791930</td>\n",
       "      <td>-0.003186</td>\n",
       "      <td>0.962355</td>\n",
       "      <td>-0.225334</td>\n",
       "    </tr>\n",
       "    <tr>\n",
       "      <th>4</th>\n",
       "      <td>(yogurt)</td>\n",
       "      <td>(whole milk)</td>\n",
       "      <td>0.086125</td>\n",
       "      <td>0.15825</td>\n",
       "      <td>0.011625</td>\n",
       "      <td>0.134978</td>\n",
       "      <td>0.852943</td>\n",
       "      <td>-0.002004</td>\n",
       "      <td>0.973097</td>\n",
       "      <td>-0.158716</td>\n",
       "    </tr>\n",
       "  </tbody>\n",
       "</table>\n",
       "</div>"
      ],
      "text/plain": [
       "          antecedents         consequents  antecedent support  \\\n",
       "0              (soda)  (other vegetables)            0.096750   \n",
       "1  (other vegetables)        (whole milk)            0.122250   \n",
       "2        (rolls/buns)        (whole milk)            0.108625   \n",
       "3              (soda)        (whole milk)            0.096750   \n",
       "4            (yogurt)        (whole milk)            0.086125   \n",
       "\n",
       "   consequent support   support  confidence      lift  leverage  conviction  \\\n",
       "0             0.12225  0.010875    0.112403  0.919453 -0.000953    0.988906   \n",
       "1             0.15825  0.014625    0.119632  0.755968 -0.004721    0.956134   \n",
       "2             0.15825  0.014625    0.134638  0.850790 -0.002565    0.972714   \n",
       "3             0.15825  0.012125    0.125323  0.791930 -0.003186    0.962355   \n",
       "4             0.15825  0.011625    0.134978  0.852943 -0.002004    0.973097   \n",
       "\n",
       "   zhangs_metric  \n",
       "0      -0.088412  \n",
       "1      -0.268881  \n",
       "2      -0.164404  \n",
       "3      -0.225334  \n",
       "4      -0.158716  "
      ]
     },
     "execution_count": 9,
     "metadata": {},
     "output_type": "execute_result"
    }
   ],
   "source": [
    "rules"
   ]
  },
  {
   "cell_type": "markdown",
   "id": "39261389",
   "metadata": {},
   "source": [
    "**Output Explaination:**\n",
    "\n",
    "The output you're seeing is a set of association rules generated from your grocery dataset using the Apriori algorithm, with a minimum support of 0.01 and a minimum confidence threshold of 0.1. Each row in the output represents an association rule. Let's break down the columns to understand what each one represents:\n",
    "\n",
    "1. ***antecedents***: This is the item or set of items on the left-hand side of the rule. For example, in the first rule, the antecedent is `(soda)`.\n",
    "\n",
    "2. ***consequents***: This is the item or set of items on the right-hand side of the rule. In the first rule, the consequent is `(other vegetables)`.\n",
    "\n",
    "3. ***antecedent support***: This is the proportion of transactions in the dataset that contain the antecedent. For instance, `0.096750` for `(soda)` means that soda is present in about 9.68% of all transactions.\n",
    "\n",
    "4. ***consequent support***: This is the proportion of transactions that contain the consequent. For `(other vegetables)`, the support is `0.12225`, meaning other vegetables are in about 12.23% of transactions.\n",
    "\n",
    "5. ***support***: This is the proportion of transactions that contain both the antecedent and consequent. The support for the first rule is `0.010875`, indicating that soda and other vegetables are bought together in about 1.09% of transactions.\n",
    "\n",
    "6. ***confidence***: This metric indicates the likelihood of the consequent being bought when the antecedent is bought. A confidence of `0.112403` in the first rule means that there's about an 11.24% chance of buying other vegetables when soda is bought.\n",
    "\n",
    "7. ***lift***: This measures how much more often the antecedent and consequent are bought together than expected if they were statistically independent. A lift value less than 1, like in the first rule (`0.919453`), suggests that buying the antecedent actually decreases the likelihood of buying the consequent.\n",
    "\n",
    "8. ***leverage***: This measures the difference in the support for the rule from what would be expected if the antecedent and consequent were independent. Negative leverage (e.g., `-0.000953` in the first rule) suggests a negative association.\n",
    "\n",
    "9. ***conviction***: This measures the strength of implication of a rule. A higher conviction value means the consequent is highly dependent on the antecedent. For the first rule, the conviction is `0.988906`, suggesting a moderate-to-strong implication.\n",
    "\n",
    "10. ***zhangs_metric***: This is a measure of the reliability of the rule, with values ranging from -1 to 1. A value near 0, like `-0.088412` in the first rule, indicates a weaker association.\n",
    "\n",
    "In summary, each rule shows a specific relationship between a set of items (antecedents) and another item (consequent), along with metrics that describe the strength, reliability, and significance of this relationship in your dataset."
   ]
  },
  {
   "cell_type": "markdown",
   "id": "9e3ced32",
   "metadata": {},
   "source": [
    "**2. Create a Heatmap for Different Combinations of Minimum Support Values and Confidence Thresholds**"
   ]
  },
  {
   "cell_type": "code",
   "execution_count": 11,
   "id": "702cba12",
   "metadata": {},
   "outputs": [],
   "source": [
    "# Define the ranges of minimum support values and confidence thresholds\n",
    "min_support_values = [0.001, 0.005, 0.01, 0.05]\n",
    "min_confidence_thresholds = [0.05, 0.075, 0.1]"
   ]
  },
  {
   "cell_type": "code",
   "execution_count": 12,
   "id": "0ca71f0b",
   "metadata": {},
   "outputs": [],
   "source": [
    "# Prepare a DataFrame to hold the counts of rules\n",
    "heatmap_data = pd.DataFrame(index=min_confidence_thresholds, columns=min_support_values)"
   ]
  },
  {
   "cell_type": "code",
   "execution_count": 13,
   "id": "51845855",
   "metadata": {},
   "outputs": [],
   "source": [
    "# Loop over the values and calculate the number of rules\n",
    "for support in min_support_values:\n",
    "    frequent_itemsets = apriori(df_trans_encoded, min_support=support, use_colnames=True)\n",
    "    for confidence in min_confidence_thresholds:\n",
    "        rules = association_rules(frequent_itemsets, metric=\"confidence\", min_threshold=confidence)\n",
    "        heatmap_data.at[confidence, support] = len(rules)"
   ]
  },
  {
   "cell_type": "code",
   "execution_count": 15,
   "id": "b297ed46",
   "metadata": {},
   "outputs": [
    {
     "data": {
      "image/png": "[encoded data removed]",
      "text/plain": [
       "<Figure size 640x480 with 2 Axes>"
      ]
     },
     "metadata": {},
     "output_type": "display_data"
    }
   ],
   "source": [
    "# Convert all values in heatmap_data to integers\n",
    "heatmap_data = heatmap_data.astype(int)\n",
    "\n",
    "# Plotting the heatmap\n",
    "sns.heatmap(heatmap_data, annot=True, cmap='viridis')\n",
    "plt.xlabel('Minimum Support Values')\n",
    "plt.ylabel('Minimum Confidence Thresholds')\n",
    "plt.title('Count of Association Rules')\n",
    "plt.show()"
   ]
  },
  {
   "cell_type": "markdown",
   "id": "e24bcd79",
   "metadata": {},
   "source": [
    "**PLot Explaination**\n",
    "\n",
    "The heatmap provided visualizes the number of association rules generated for different combinations of minimum support values and minimum confidence thresholds. Let's analyze the plot:\n",
    "\n",
    "- The **x-axis** represents different minimum support values (`0.001`, `0.005`, `0.01`, `0.05`).\n",
    "- The **y-axis** represents different minimum confidence thresholds (`0.05`, `0.075`, `0.1`).\n",
    "\n",
    "Each cell in the heatmap corresponds to a combination of minimum support value (from the x-axis) and minimum confidence threshold (from the y-axis). The color of each cell indicates the number of association rules that meet the corresponding minimum support and confidence levels, with the scale shown on the right side of the heatmap.\n",
    "\n",
    "Analyzing the data:\n",
    "\n",
    "- For a minimum confidence threshold of `0.05`:\n",
    "  - With a minimum support of `0.001`, there are over `500` rules.\n",
    "  - As minimum support increases, the number of rules decreases, which is expected because higher support means the rule must be applicable to more transactions.\n",
    "\n",
    "- As the minimum confidence threshold increases to `0.075` and `0.1`, the number of rules at the same support levels decreases:\n",
    "  - This is because higher confidence requires a stronger implication of the antecedent leading to the consequent, which is less likely to occur.\n",
    "  \n",
    "- At the highest minimum support value (`0.05`), no rules meet the threshold, indicating that no itemsets are frequent enough at this level of support across all confidence thresholds tested.\n",
    "\n",
    "From the heatmap, we can deduce that as the minimum support and confidence thresholds increase, the number of rules that satisfy these thresholds decreases. This is a typical behavior because stricter thresholds (higher values for support and confidence) lead to fewer but potentially more significant and reliable rules."
   ]
  },
  {
   "cell_type": "markdown",
   "id": "63f915d5",
   "metadata": {},
   "source": [
    "**3. Find the Rule(s) with the Highest Confidence for Minimum Support = 0.005**"
   ]
  },
  {
   "cell_type": "code",
   "execution_count": 16,
   "id": "5d759eef",
   "metadata": {},
   "outputs": [],
   "source": [
    "# Applying Apriori for min_support = 0.005\n",
    "frequent_itemsets = apriori(df_trans_encoded, min_support=0.005, use_colnames=True)\n",
    "\n",
    "# Generating rules\n",
    "rules = association_rules(frequent_itemsets, metric=\"confidence\", min_threshold=0)"
   ]
  },
  {
   "cell_type": "code",
   "execution_count": 17,
   "id": "76ba71f9",
   "metadata": {},
   "outputs": [],
   "source": [
    "# Finding the rule(s) with the highest confidence\n",
    "max_confidence = rules['confidence'].max()\n",
    "highest_confidence_rules = rules[rules['confidence'] == max_confidence]"
   ]
  },
  {
   "cell_type": "code",
   "execution_count": 22,
   "id": "7026a608",
   "metadata": {},
   "outputs": [
    {
     "data": {
      "text/html": [
       "<div>\n",
       "<style scoped>\n",
       "    .dataframe tbody tr th:only-of-type {\n",
       "        vertical-align: middle;\n",
       "    }\n",
       "\n",
       "    .dataframe tbody tr th {\n",
       "        vertical-align: top;\n",
       "    }\n",
       "\n",
       "    .dataframe thead th {\n",
       "        text-align: right;\n",
       "    }\n",
       "</style>\n",
       "<table border=\"1\" class=\"dataframe\">\n",
       "  <thead>\n",
       "    <tr style=\"text-align: right;\">\n",
       "      <th></th>\n",
       "      <th>antecedents</th>\n",
       "      <th>consequents</th>\n",
       "      <th>antecedent support</th>\n",
       "      <th>consequent support</th>\n",
       "      <th>support</th>\n",
       "      <th>confidence</th>\n",
       "      <th>lift</th>\n",
       "      <th>leverage</th>\n",
       "      <th>conviction</th>\n",
       "      <th>zhangs_metric</th>\n",
       "    </tr>\n",
       "  </thead>\n",
       "  <tbody>\n",
       "    <tr>\n",
       "      <th>0</th>\n",
       "      <td>(bottled beer)</td>\n",
       "      <td>(whole milk)</td>\n",
       "      <td>0.0465</td>\n",
       "      <td>0.15825</td>\n",
       "      <td>0.007375</td>\n",
       "      <td>0.158602</td>\n",
       "      <td>1.002225</td>\n",
       "      <td>0.000016</td>\n",
       "      <td>1.000419</td>\n",
       "      <td>0.002329</td>\n",
       "    </tr>\n",
       "  </tbody>\n",
       "</table>\n",
       "</div>"
      ],
      "text/plain": [
       "      antecedents   consequents  antecedent support  consequent support  \\\n",
       "0  (bottled beer)  (whole milk)              0.0465             0.15825   \n",
       "\n",
       "    support  confidence      lift  leverage  conviction  zhangs_metric  \n",
       "0  0.007375    0.158602  1.002225  0.000016    1.000419       0.002329  "
      ]
     },
     "execution_count": 22,
     "metadata": {},
     "output_type": "execute_result"
    }
   ],
   "source": [
    "# Display the rule(s) and the confidence value\n",
    "highest_confidence_rules"
   ]
  },
  {
   "cell_type": "code",
   "execution_count": 20,
   "id": "192561ee",
   "metadata": {},
   "outputs": [
    {
     "name": "stdout",
     "output_type": "stream",
     "text": [
      "Highest Confidence Value: 0.1586021505376344\n"
     ]
    }
   ],
   "source": [
    "print(\"Highest Confidence Value:\", max_confidence)"
   ]
  },
  {
   "cell_type": "markdown",
   "id": "48cd4a0d",
   "metadata": {},
   "source": [
    "**Output Explaination:**\n",
    "\n",
    "The output shows the association rule with the highest confidence when the minimum support is set to 0.005. Let's break down:\n",
    "\n",
    "1. **antecedents**: This is the predictor item or set of items in the rule, which in this case is `(bottled beer)`.\n",
    "\n",
    "2. **consequents**: This is the item that is being predicted by the antecedent, which in this case is `(whole milk)`.\n",
    "\n",
    "3. **antecedent support**: The proportion of transactions that contain the antecedent. Here, `0.0465` indicates that bottled beer is in about 4.65% of the transactions.\n",
    "\n",
    "4. **consequent support**: The proportion of transactions that contain the consequent. `0.15825` means that whole milk appears in about 15.83% of transactions.\n",
    "\n",
    "5. **support**: The proportion of transactions that contain both the antecedent and consequent. Here, `0.007375` indicates that bottled beer and whole milk are bought together in about 0.74% of transactions.\n",
    "\n",
    "6. **confidence**: The likelihood of the consequent being bought when the antecedent is bought. A confidence of `0.158602` means that there is about a 15.86% chance that whole milk is bought when bottled beer is purchased.\n",
    "\n",
    "7. **lift**: This measures the likelihood of the consequent being bought when the antecedent is bought, compared to the consequent's overall likelihood. A lift close to `1` (`1.002225` here) suggests that the likelihood of buying whole milk is almost the same regardless of whether bottled beer is bought or not.\n",
    "\n",
    "8. **leverage**: The difference in the probability of the antecedent and consequent appearing together in transactions than if they were statistically independent. The leverage is nearly zero (`0.000016`), indicating a very slight positive effect on the sales of whole milk when bottled beer is sold.\n",
    "\n",
    "9. **conviction**: This indicates the strength of the rule. A conviction value close to `1` (`1.000419` here) suggests that there's no significant dependency of the consequent on the antecedent.\n",
    "\n",
    "10. **zhangs_metric**: This measures the certainty of the rule. A value close to zero (`0.002329`) indicates a very weak rule.\n",
    "\n",
    "**Highest Confidence Value:** The highest confidence value found is `0.158602`, which means that of all the rules generated at the minimum support level of 0.005, the rule `(bottled beer) => (whole milk)` has the highest confidence at approximately 15.86%.\n",
    "\n",
    "In summary, the rule indicates that when bottled beer is purchased, there is a 15.86% chance that whole milk will also be bought. However, given the lift is close to 1 and other metrics suggest only a weak association, this rule may not be particularly strong or useful for making business decisions such as product placement or promotions."
   ]
  }
 ],
 "metadata": {
  "kernelspec": {
   "display_name": "Python 3 (ipykernel)",
   "language": "python",
   "name": "python3"
  },
  "language_info": {
   "codemirror_mode": {
    "name": "ipython",
    "version": 3
   },
   "file_extension": ".py",
   "mimetype": "text/x-python",
   "name": "python",
   "nbconvert_exporter": "python",
   "pygments_lexer": "ipython3",
   "version": "3.11.4"
  }
 },
 "nbformat": 4,
 "nbformat_minor": 5
}
